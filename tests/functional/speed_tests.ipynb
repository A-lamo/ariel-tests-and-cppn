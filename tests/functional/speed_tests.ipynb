{
 "cells": [
  {
   "cell_type": "markdown",
   "id": "78248e6e",
   "metadata": {},
   "source": [
    "# Speed Tests"
   ]
  },
  {
   "cell_type": "code",
   "execution_count": 1,
   "id": "52126fa3",
   "metadata": {},
   "outputs": [],
   "source": [
    "# Standard libraries\n",
    "import inspect\n",
    "import time"
   ]
  },
  {
   "cell_type": "code",
   "execution_count": 2,
   "id": "f1cdb115",
   "metadata": {},
   "outputs": [],
   "source": [
    "# Third-party libraries\n",
    "from rich.console import Console\n",
    "from rich.traceback import install"
   ]
  },
  {
   "cell_type": "code",
   "execution_count": 3,
   "id": "bd922fdb",
   "metadata": {},
   "outputs": [],
   "source": [
    "# --- TERMINAL OUTPUT SETUP --- #\n",
    "install(show_locals=False)\n",
    "console = Console()\n",
    "t = time.perf_counter()"
   ]
  },
  {
   "cell_type": "code",
   "execution_count": 4,
   "id": "d7c89e5c",
   "metadata": {},
   "outputs": [
    {
     "data": {
      "text/html": [
       "<pre style=\"white-space:pre;overflow-x:auto;line-height:normal;font-family:Menlo,'DejaVu Sans Mono',consolas,'Courier New',monospace\"><span style=\"color: #7fbfbf; text-decoration-color: #7fbfbf\">[15:38:36] </span>Imports completed in <span style=\"color: #008080; text-decoration-color: #008080; font-weight: bold\">1.17</span> seconds.                                                       <a href=\"file:///var/folders/x7/1fxq57_x2d1c5hmfwj4l43cw0000gp/T/ipykernel_47627/3451240815.py\" target=\"_blank\"><span style=\"color: #7f7f7f; text-decoration-color: #7f7f7f\">3451240815.py</span></a><span style=\"color: #7f7f7f; text-decoration-color: #7f7f7f\">:</span><a href=\"file:///var/folders/x7/1fxq57_x2d1c5hmfwj4l43cw0000gp/T/ipykernel_47627/3451240815.py#7\" target=\"_blank\"><span style=\"color: #7f7f7f; text-decoration-color: #7f7f7f\">7</span></a>\n",
       "</pre>\n"
      ],
      "text/plain": [
       "\u001b[2;36m[15:38:36]\u001b[0m\u001b[2;36m \u001b[0mImports completed in \u001b[1;36m1.17\u001b[0m seconds.                                                       \u001b]8;id=245124;file:///var/folders/x7/1fxq57_x2d1c5hmfwj4l43cw0000gp/T/ipykernel_47627/3451240815.py\u001b\\\u001b[2m3451240815.py\u001b[0m\u001b]8;;\u001b\\\u001b[2m:\u001b[0m\u001b]8;id=381584;file:///var/folders/x7/1fxq57_x2d1c5hmfwj4l43cw0000gp/T/ipykernel_47627/3451240815.py#7\u001b\\\u001b[2m7\u001b[0m\u001b]8;;\u001b\\\n"
      ]
     },
     "metadata": {},
     "output_type": "display_data"
    }
   ],
   "source": [
    "# Local libraries\n",
    "from ariel.body_phenotypes.robogen_lite.prebuilt_robots.gecko import gecko\n",
    "from ariel.simulation import environments as envs\n",
    "from ariel.simulation.environments import OlympicArena as World\n",
    "\n",
    "msg = f\"Imports completed in {time.perf_counter() - t:.2f} seconds.\"\n",
    "console.log(msg)"
   ]
  },
  {
   "cell_type": "markdown",
   "id": "e48e0978",
   "metadata": {},
   "source": [
    "## Load Pre-compiled"
   ]
  },
  {
   "cell_type": "markdown",
   "id": "ee916754",
   "metadata": {},
   "source": [
    "### Pre-compiled = True"
   ]
  },
  {
   "cell_type": "code",
   "execution_count": 5,
   "id": "007ad106",
   "metadata": {},
   "outputs": [
    {
     "data": {
      "text/html": [
       "<pre style=\"white-space:pre;overflow-x:auto;line-height:normal;font-family:Menlo,'DejaVu Sans Mono',consolas,'Courier New',monospace\">Instantiated AmphitheatreTerrainWorld <span style=\"color: #008080; text-decoration-color: #008080; font-weight: bold\">1000</span> times in <span style=\"color: #008080; text-decoration-color: #008080; font-weight: bold\">1.41</span> seconds.\n",
       "</pre>\n"
      ],
      "text/plain": [
       "Instantiated AmphitheatreTerrainWorld \u001b[1;36m1000\u001b[0m times in \u001b[1;36m1.41\u001b[0m seconds.\n"
      ]
     },
     "metadata": {},
     "output_type": "display_data"
    },
    {
     "data": {
      "text/html": [
       "<pre style=\"white-space:pre;overflow-x:auto;line-height:normal;font-family:Menlo,'DejaVu Sans Mono',consolas,'Courier New',monospace\">Instantiated BaseWorld <span style=\"color: #008080; text-decoration-color: #008080; font-weight: bold\">1000</span> times in <span style=\"color: #008080; text-decoration-color: #008080; font-weight: bold\">1.63</span> seconds.\n",
       "</pre>\n"
      ],
      "text/plain": [
       "Instantiated BaseWorld \u001b[1;36m1000\u001b[0m times in \u001b[1;36m1.63\u001b[0m seconds.\n"
      ]
     },
     "metadata": {},
     "output_type": "display_data"
    },
    {
     "data": {
      "text/html": [
       "<pre style=\"white-space:pre;overflow-x:auto;line-height:normal;font-family:Menlo,'DejaVu Sans Mono',consolas,'Courier New',monospace\">Instantiated CompoundWorld <span style=\"color: #008080; text-decoration-color: #008080; font-weight: bold\">1000</span> times in <span style=\"color: #008080; text-decoration-color: #008080; font-weight: bold\">1.99</span> seconds.\n",
       "</pre>\n"
      ],
      "text/plain": [
       "Instantiated CompoundWorld \u001b[1;36m1000\u001b[0m times in \u001b[1;36m1.99\u001b[0m seconds.\n"
      ]
     },
     "metadata": {},
     "output_type": "display_data"
    },
    {
     "data": {
      "text/html": [
       "<pre style=\"white-space:pre;overflow-x:auto;line-height:normal;font-family:Menlo,'DejaVu Sans Mono',consolas,'Courier New',monospace\">Instantiated CraterTerrainWorld <span style=\"color: #008080; text-decoration-color: #008080; font-weight: bold\">1000</span> times in <span style=\"color: #008080; text-decoration-color: #008080; font-weight: bold\">3.34</span> seconds.\n",
       "</pre>\n"
      ],
      "text/plain": [
       "Instantiated CraterTerrainWorld \u001b[1;36m1000\u001b[0m times in \u001b[1;36m3.34\u001b[0m seconds.\n"
      ]
     },
     "metadata": {},
     "output_type": "display_data"
    },
    {
     "data": {
      "text/html": [
       "<pre style=\"white-space:pre;overflow-x:auto;line-height:normal;font-family:Menlo,'DejaVu Sans Mono',consolas,'Courier New',monospace\">Instantiated OlympicArena <span style=\"color: #008080; text-decoration-color: #008080; font-weight: bold\">1000</span> times in <span style=\"color: #008080; text-decoration-color: #008080; font-weight: bold\">3.72</span> seconds.\n",
       "</pre>\n"
      ],
      "text/plain": [
       "Instantiated OlympicArena \u001b[1;36m1000\u001b[0m times in \u001b[1;36m3.72\u001b[0m seconds.\n"
      ]
     },
     "metadata": {},
     "output_type": "display_data"
    },
    {
     "data": {
      "text/html": [
       "<pre style=\"white-space:pre;overflow-x:auto;line-height:normal;font-family:Menlo,'DejaVu Sans Mono',consolas,'Courier New',monospace\">Instantiated RuggedTerrainWorld <span style=\"color: #008080; text-decoration-color: #008080; font-weight: bold\">1000</span> times in <span style=\"color: #008080; text-decoration-color: #008080; font-weight: bold\">5.10</span> seconds.\n",
       "</pre>\n"
      ],
      "text/plain": [
       "Instantiated RuggedTerrainWorld \u001b[1;36m1000\u001b[0m times in \u001b[1;36m5.10\u001b[0m seconds.\n"
      ]
     },
     "metadata": {},
     "output_type": "display_data"
    },
    {
     "data": {
      "text/html": [
       "<pre style=\"white-space:pre;overflow-x:auto;line-height:normal;font-family:Menlo,'DejaVu Sans Mono',consolas,'Courier New',monospace\">Instantiated RuggedTiltedWorld <span style=\"color: #008080; text-decoration-color: #008080; font-weight: bold\">1000</span> times in <span style=\"color: #008080; text-decoration-color: #008080; font-weight: bold\">6.49</span> seconds.\n",
       "</pre>\n"
      ],
      "text/plain": [
       "Instantiated RuggedTiltedWorld \u001b[1;36m1000\u001b[0m times in \u001b[1;36m6.49\u001b[0m seconds.\n"
      ]
     },
     "metadata": {},
     "output_type": "display_data"
    },
    {
     "data": {
      "text/html": [
       "<pre style=\"white-space:pre;overflow-x:auto;line-height:normal;font-family:Menlo,'DejaVu Sans Mono',consolas,'Courier New',monospace\">Instantiated SimpleFlatWorld <span style=\"color: #008080; text-decoration-color: #008080; font-weight: bold\">1000</span> times in <span style=\"color: #008080; text-decoration-color: #008080; font-weight: bold\">6.72</span> seconds.\n",
       "</pre>\n"
      ],
      "text/plain": [
       "Instantiated SimpleFlatWorld \u001b[1;36m1000\u001b[0m times in \u001b[1;36m6.72\u001b[0m seconds.\n"
      ]
     },
     "metadata": {},
     "output_type": "display_data"
    },
    {
     "data": {
      "text/html": [
       "<pre style=\"white-space:pre;overflow-x:auto;line-height:normal;font-family:Menlo,'DejaVu Sans Mono',consolas,'Courier New',monospace\">Instantiated SimpleTiltedWorld <span style=\"color: #008080; text-decoration-color: #008080; font-weight: bold\">1000</span> times in <span style=\"color: #008080; text-decoration-color: #008080; font-weight: bold\">6.95</span> seconds.\n",
       "</pre>\n"
      ],
      "text/plain": [
       "Instantiated SimpleTiltedWorld \u001b[1;36m1000\u001b[0m times in \u001b[1;36m6.95\u001b[0m seconds.\n"
      ]
     },
     "metadata": {},
     "output_type": "display_data"
    }
   ],
   "source": [
    "t = time.perf_counter()\n",
    "iters = 1_000\n",
    "for _, (_, cls) in enumerate(inspect.getmembers(envs, inspect.isclass)):\n",
    "    for _ in range(iters):\n",
    "        world = cls(load_precompiled=True)\n",
    "    msg = f\"Instantiated {cls.__name__} {iters} times \"\n",
    "    msg += f\"in {time.perf_counter() - t:.2f} seconds.\"\n",
    "    console.print(msg)"
   ]
  },
  {
   "cell_type": "markdown",
   "id": "30f18ec2",
   "metadata": {},
   "source": [
    "### Pre-compiled = False"
   ]
  },
  {
   "cell_type": "code",
   "execution_count": 6,
   "id": "d221b6cd",
   "metadata": {},
   "outputs": [
    {
     "data": {
      "text/html": [
       "<pre style=\"white-space:pre;overflow-x:auto;line-height:normal;font-family:Menlo,'DejaVu Sans Mono',consolas,'Courier New',monospace\">Instantiated AmphitheatreTerrainWorld <span style=\"color: #008080; text-decoration-color: #008080; font-weight: bold\">1000</span> times in <span style=\"color: #008080; text-decoration-color: #008080; font-weight: bold\">1.26</span> seconds.\n",
       "</pre>\n"
      ],
      "text/plain": [
       "Instantiated AmphitheatreTerrainWorld \u001b[1;36m1000\u001b[0m times in \u001b[1;36m1.26\u001b[0m seconds.\n"
      ]
     },
     "metadata": {},
     "output_type": "display_data"
    },
    {
     "data": {
      "text/html": [
       "<pre style=\"white-space:pre;overflow-x:auto;line-height:normal;font-family:Menlo,'DejaVu Sans Mono',consolas,'Courier New',monospace\">Instantiated BaseWorld <span style=\"color: #008080; text-decoration-color: #008080; font-weight: bold\">1000</span> times in <span style=\"color: #008080; text-decoration-color: #008080; font-weight: bold\">1.35</span> seconds.\n",
       "</pre>\n"
      ],
      "text/plain": [
       "Instantiated BaseWorld \u001b[1;36m1000\u001b[0m times in \u001b[1;36m1.35\u001b[0m seconds.\n"
      ]
     },
     "metadata": {},
     "output_type": "display_data"
    },
    {
     "data": {
      "text/html": [
       "<pre style=\"white-space:pre;overflow-x:auto;line-height:normal;font-family:Menlo,'DejaVu Sans Mono',consolas,'Courier New',monospace\">Instantiated CompoundWorld <span style=\"color: #008080; text-decoration-color: #008080; font-weight: bold\">1000</span> times in <span style=\"color: #008080; text-decoration-color: #008080; font-weight: bold\">1.65</span> seconds.\n",
       "</pre>\n"
      ],
      "text/plain": [
       "Instantiated CompoundWorld \u001b[1;36m1000\u001b[0m times in \u001b[1;36m1.65\u001b[0m seconds.\n"
      ]
     },
     "metadata": {},
     "output_type": "display_data"
    },
    {
     "data": {
      "text/html": [
       "<pre style=\"white-space:pre;overflow-x:auto;line-height:normal;font-family:Menlo,'DejaVu Sans Mono',consolas,'Courier New',monospace\">Instantiated CraterTerrainWorld <span style=\"color: #008080; text-decoration-color: #008080; font-weight: bold\">1000</span> times in <span style=\"color: #008080; text-decoration-color: #008080; font-weight: bold\">2.84</span> seconds.\n",
       "</pre>\n"
      ],
      "text/plain": [
       "Instantiated CraterTerrainWorld \u001b[1;36m1000\u001b[0m times in \u001b[1;36m2.84\u001b[0m seconds.\n"
      ]
     },
     "metadata": {},
     "output_type": "display_data"
    },
    {
     "data": {
      "text/html": [
       "<pre style=\"white-space:pre;overflow-x:auto;line-height:normal;font-family:Menlo,'DejaVu Sans Mono',consolas,'Courier New',monospace\">Instantiated OlympicArena <span style=\"color: #008080; text-decoration-color: #008080; font-weight: bold\">1000</span> times in <span style=\"color: #008080; text-decoration-color: #008080; font-weight: bold\">3.49</span> seconds.\n",
       "</pre>\n"
      ],
      "text/plain": [
       "Instantiated OlympicArena \u001b[1;36m1000\u001b[0m times in \u001b[1;36m3.49\u001b[0m seconds.\n"
      ]
     },
     "metadata": {},
     "output_type": "display_data"
    },
    {
     "data": {
      "text/html": [
       "<pre style=\"white-space:pre;overflow-x:auto;line-height:normal;font-family:Menlo,'DejaVu Sans Mono',consolas,'Courier New',monospace\">Instantiated RuggedTerrainWorld <span style=\"color: #008080; text-decoration-color: #008080; font-weight: bold\">1000</span> times in <span style=\"color: #008080; text-decoration-color: #008080; font-weight: bold\">4.64</span> seconds.\n",
       "</pre>\n"
      ],
      "text/plain": [
       "Instantiated RuggedTerrainWorld \u001b[1;36m1000\u001b[0m times in \u001b[1;36m4.64\u001b[0m seconds.\n"
      ]
     },
     "metadata": {},
     "output_type": "display_data"
    },
    {
     "data": {
      "text/html": [
       "<pre style=\"white-space:pre;overflow-x:auto;line-height:normal;font-family:Menlo,'DejaVu Sans Mono',consolas,'Courier New',monospace\">Instantiated RuggedTiltedWorld <span style=\"color: #008080; text-decoration-color: #008080; font-weight: bold\">1000</span> times in <span style=\"color: #008080; text-decoration-color: #008080; font-weight: bold\">5.81</span> seconds.\n",
       "</pre>\n"
      ],
      "text/plain": [
       "Instantiated RuggedTiltedWorld \u001b[1;36m1000\u001b[0m times in \u001b[1;36m5.81\u001b[0m seconds.\n"
      ]
     },
     "metadata": {},
     "output_type": "display_data"
    },
    {
     "data": {
      "text/html": [
       "<pre style=\"white-space:pre;overflow-x:auto;line-height:normal;font-family:Menlo,'DejaVu Sans Mono',consolas,'Courier New',monospace\">Instantiated SimpleFlatWorld <span style=\"color: #008080; text-decoration-color: #008080; font-weight: bold\">1000</span> times in <span style=\"color: #008080; text-decoration-color: #008080; font-weight: bold\">5.94</span> seconds.\n",
       "</pre>\n"
      ],
      "text/plain": [
       "Instantiated SimpleFlatWorld \u001b[1;36m1000\u001b[0m times in \u001b[1;36m5.94\u001b[0m seconds.\n"
      ]
     },
     "metadata": {},
     "output_type": "display_data"
    },
    {
     "data": {
      "text/html": [
       "<pre style=\"white-space:pre;overflow-x:auto;line-height:normal;font-family:Menlo,'DejaVu Sans Mono',consolas,'Courier New',monospace\">Instantiated SimpleTiltedWorld <span style=\"color: #008080; text-decoration-color: #008080; font-weight: bold\">1000</span> times in <span style=\"color: #008080; text-decoration-color: #008080; font-weight: bold\">6.06</span> seconds.\n",
       "</pre>\n"
      ],
      "text/plain": [
       "Instantiated SimpleTiltedWorld \u001b[1;36m1000\u001b[0m times in \u001b[1;36m6.06\u001b[0m seconds.\n"
      ]
     },
     "metadata": {},
     "output_type": "display_data"
    }
   ],
   "source": [
    "t = time.perf_counter()\n",
    "iters = 1_000\n",
    "for _, (_, cls) in enumerate(inspect.getmembers(envs, inspect.isclass)):\n",
    "    for _ in range(iters):\n",
    "        world = cls(load_precompiled=False)\n",
    "    msg = f\"Instantiated {cls.__name__} {iters} times \"\n",
    "    msg += f\"in {time.perf_counter() - t:.2f} seconds.\"\n",
    "    console.print(msg)"
   ]
  },
  {
   "cell_type": "markdown",
   "id": "800d66d7",
   "metadata": {},
   "source": [
    "## `world.spawn`"
   ]
  },
  {
   "cell_type": "markdown",
   "id": "bf5ee553",
   "metadata": {},
   "source": [
    "### With Floor Collision Detection and Validation"
   ]
  },
  {
   "cell_type": "code",
   "execution_count": 7,
   "id": "d146f30a",
   "metadata": {},
   "outputs": [
    {
     "data": {
      "text/html": [
       "<pre style=\"white-space:pre;overflow-x:auto;line-height:normal;font-family:Menlo,'DejaVu Sans Mono',consolas,'Courier New',monospace\"><span style=\"color: #7fbfbf; text-decoration-color: #7fbfbf\">[15:38:54] </span>Completed <span style=\"color: #008080; text-decoration-color: #008080; font-weight: bold\">1000</span> iterations in <span style=\"color: #008080; text-decoration-color: #008080; font-weight: bold\">5.12</span> seconds.                                              <a href=\"file:///var/folders/x7/1fxq57_x2d1c5hmfwj4l43cw0000gp/T/ipykernel_47627/3489303991.py\" target=\"_blank\"><span style=\"color: #7f7f7f; text-decoration-color: #7f7f7f\">3489303991.py</span></a><span style=\"color: #7f7f7f; text-decoration-color: #7f7f7f\">:</span><a href=\"file:///var/folders/x7/1fxq57_x2d1c5hmfwj4l43cw0000gp/T/ipykernel_47627/3489303991.py#20\" target=\"_blank\"><span style=\"color: #7f7f7f; text-decoration-color: #7f7f7f\">20</span></a>\n",
       "</pre>\n"
      ],
      "text/plain": [
       "\u001b[2;36m[15:38:54]\u001b[0m\u001b[2;36m \u001b[0mCompleted \u001b[1;36m1000\u001b[0m iterations in \u001b[1;36m5.12\u001b[0m seconds.                                              \u001b]8;id=523784;file:///var/folders/x7/1fxq57_x2d1c5hmfwj4l43cw0000gp/T/ipykernel_47627/3489303991.py\u001b\\\u001b[2m3489303991.py\u001b[0m\u001b]8;;\u001b\\\u001b[2m:\u001b[0m\u001b]8;id=534486;file:///var/folders/x7/1fxq57_x2d1c5hmfwj4l43cw0000gp/T/ipykernel_47627/3489303991.py#20\u001b\\\u001b[2m20\u001b[0m\u001b]8;;\u001b\\\n"
      ]
     },
     "metadata": {},
     "output_type": "display_data"
    }
   ],
   "source": [
    "t = time.perf_counter()\n",
    "iters = 1_000\n",
    "for _ in range(iters):\n",
    "    # Initialise world\n",
    "    world = World()\n",
    "\n",
    "    # Initialise robot body\n",
    "    gecko_core = gecko()\n",
    "\n",
    "    # Spawn robot in the world\n",
    "    world.spawn(\n",
    "        gecko_core.spec,\n",
    "        position=[0, 0, 0],\n",
    "        correct_collision_with_floor=True,\n",
    "        validate_no_collisions=True,\n",
    "    )\n",
    "\n",
    "msg = \"With Floor Collision Detection and With Validation\"\n",
    "msg = f\"Completed {iters} iterations in {time.perf_counter() - t:.2f} seconds.\"\n",
    "console.log(msg)"
   ]
  },
  {
   "cell_type": "markdown",
   "id": "900119cf",
   "metadata": {},
   "source": [
    "### With Floor Collision Detection and Without Validation"
   ]
  },
  {
   "cell_type": "code",
   "execution_count": 8,
   "id": "ce1cbc0e",
   "metadata": {},
   "outputs": [
    {
     "data": {
      "text/html": [
       "<pre style=\"white-space:pre;overflow-x:auto;line-height:normal;font-family:Menlo,'DejaVu Sans Mono',consolas,'Courier New',monospace\"><span style=\"color: #7fbfbf; text-decoration-color: #7fbfbf\">[15:38:58] </span>Completed <span style=\"color: #008080; text-decoration-color: #008080; font-weight: bold\">1000</span> iterations in <span style=\"color: #008080; text-decoration-color: #008080; font-weight: bold\">3.97</span> seconds.                                               <a href=\"file:///var/folders/x7/1fxq57_x2d1c5hmfwj4l43cw0000gp/T/ipykernel_47627/338113031.py\" target=\"_blank\"><span style=\"color: #7f7f7f; text-decoration-color: #7f7f7f\">338113031.py</span></a><span style=\"color: #7f7f7f; text-decoration-color: #7f7f7f\">:</span><a href=\"file:///var/folders/x7/1fxq57_x2d1c5hmfwj4l43cw0000gp/T/ipykernel_47627/338113031.py#20\" target=\"_blank\"><span style=\"color: #7f7f7f; text-decoration-color: #7f7f7f\">20</span></a>\n",
       "</pre>\n"
      ],
      "text/plain": [
       "\u001b[2;36m[15:38:58]\u001b[0m\u001b[2;36m \u001b[0mCompleted \u001b[1;36m1000\u001b[0m iterations in \u001b[1;36m3.97\u001b[0m seconds.                                               \u001b]8;id=604633;file:///var/folders/x7/1fxq57_x2d1c5hmfwj4l43cw0000gp/T/ipykernel_47627/338113031.py\u001b\\\u001b[2m338113031.py\u001b[0m\u001b]8;;\u001b\\\u001b[2m:\u001b[0m\u001b]8;id=442291;file:///var/folders/x7/1fxq57_x2d1c5hmfwj4l43cw0000gp/T/ipykernel_47627/338113031.py#20\u001b\\\u001b[2m20\u001b[0m\u001b]8;;\u001b\\\n"
      ]
     },
     "metadata": {},
     "output_type": "display_data"
    }
   ],
   "source": [
    "t = time.perf_counter()\n",
    "iters = 1_000\n",
    "for _ in range(iters):\n",
    "    # Initialise world\n",
    "    world = World()\n",
    "\n",
    "    # Initialise robot body\n",
    "    gecko_core = gecko()\n",
    "\n",
    "    # Spawn robot in the world\n",
    "    world.spawn(\n",
    "        gecko_core.spec,\n",
    "        position=[0, 0, 0],\n",
    "        correct_collision_with_floor=True,\n",
    "        validate_no_collisions=False,\n",
    "    )\n",
    "\n",
    "msg = \"With Floor Collision Detection and Without Validation\"\n",
    "msg = f\"Completed {iters} iterations in {time.perf_counter() - t:.2f} seconds.\"\n",
    "console.log(msg)"
   ]
  },
  {
   "cell_type": "markdown",
   "id": "4ea82a16",
   "metadata": {},
   "source": [
    "### Without Floor Collision Detection and WithoutValidation"
   ]
  },
  {
   "cell_type": "code",
   "execution_count": 9,
   "id": "cfdf0d1f",
   "metadata": {},
   "outputs": [
    {
     "data": {
      "text/html": [
       "<pre style=\"white-space:pre;overflow-x:auto;line-height:normal;font-family:Menlo,'DejaVu Sans Mono',consolas,'Courier New',monospace\"><span style=\"color: #7fbfbf; text-decoration-color: #7fbfbf\">[15:39:01] </span>Completed <span style=\"color: #008080; text-decoration-color: #008080; font-weight: bold\">1000</span> iterations in <span style=\"color: #008080; text-decoration-color: #008080; font-weight: bold\">2.55</span> seconds.                                              <a href=\"file:///var/folders/x7/1fxq57_x2d1c5hmfwj4l43cw0000gp/T/ipykernel_47627/4195014689.py\" target=\"_blank\"><span style=\"color: #7f7f7f; text-decoration-color: #7f7f7f\">4195014689.py</span></a><span style=\"color: #7f7f7f; text-decoration-color: #7f7f7f\">:</span><a href=\"file:///var/folders/x7/1fxq57_x2d1c5hmfwj4l43cw0000gp/T/ipykernel_47627/4195014689.py#20\" target=\"_blank\"><span style=\"color: #7f7f7f; text-decoration-color: #7f7f7f\">20</span></a>\n",
       "</pre>\n"
      ],
      "text/plain": [
       "\u001b[2;36m[15:39:01]\u001b[0m\u001b[2;36m \u001b[0mCompleted \u001b[1;36m1000\u001b[0m iterations in \u001b[1;36m2.55\u001b[0m seconds.                                              \u001b]8;id=382981;file:///var/folders/x7/1fxq57_x2d1c5hmfwj4l43cw0000gp/T/ipykernel_47627/4195014689.py\u001b\\\u001b[2m4195014689.py\u001b[0m\u001b]8;;\u001b\\\u001b[2m:\u001b[0m\u001b]8;id=34804;file:///var/folders/x7/1fxq57_x2d1c5hmfwj4l43cw0000gp/T/ipykernel_47627/4195014689.py#20\u001b\\\u001b[2m20\u001b[0m\u001b]8;;\u001b\\\n"
      ]
     },
     "metadata": {},
     "output_type": "display_data"
    }
   ],
   "source": [
    "t = time.perf_counter()\n",
    "iters = 1_000\n",
    "for _ in range(iters):\n",
    "    # Initialise world\n",
    "    world = World()\n",
    "\n",
    "    # Initialise robot body\n",
    "    gecko_core = gecko()\n",
    "\n",
    "    # Spawn robot in the world\n",
    "    world.spawn(\n",
    "        gecko_core.spec,\n",
    "        position=[0, 0, 0],\n",
    "        correct_collision_with_floor=False,\n",
    "        validate_no_collisions=False,\n",
    "    )\n",
    "\n",
    "msg = \"Without Floor Collision Detection and Without Validation\"\n",
    "msg = f\"Completed {iters} iterations in {time.perf_counter() - t:.2f} seconds.\"\n",
    "console.log(msg)"
   ]
  }
 ],
 "metadata": {
  "kernelspec": {
   "display_name": "ariel4 (3.12.9)",
   "language": "python",
   "name": "python3"
  },
  "language_info": {
   "codemirror_mode": {
    "name": "ipython",
    "version": 3
   },
   "file_extension": ".py",
   "mimetype": "text/x-python",
   "name": "python",
   "nbconvert_exporter": "python",
   "pygments_lexer": "ipython3",
   "version": "3.12.9"
  }
 },
 "nbformat": 4,
 "nbformat_minor": 5
}
