{
 "cells": [
  {
   "cell_type": "markdown",
   "id": "7f975200",
   "metadata": {},
   "source": [
    "# This file shows the process of creating an EA using ARIEL "
   ]
  },
  {
   "cell_type": "markdown",
   "id": "c1a738e9",
   "metadata": {},
   "source": [
    "### How does ARIEL EC module work?\n",
    "\n",
    "The ARIEL EC (Evolutionary Computing) module works a bit different than other EAs (Evolutionary Algorithms). While other EAs represent the population as a simple list of individuals, here they the population is made as its own class, with a population being type of `list[Individuals]`. \n",
    "\n",
    "Similarly, in traditional EA architecture an individual is chosen for certain operators (for example parent selection) according to some criteria, put into a separate list and then given to the operator function. ARIEL works by giving individuals what we call `tags`. An individual has `tags` that can be toggled, which qualify it for any and all operations. The tag can be whether an individual can crossover or mutate in the future, but it can also show if it can enter the learning cycle.\n",
    "\n",
    "The tags can be changed at all times, and default values for each tag can be given to more closely represent a traditional EA structure.\n",
    "\n",
    "Additionally, ARIEL utilizes an SQL database to handle the variables and outputs of the code. This makes the code run faster, but it adds an extra step to the process.\n",
    "\n",
    "This file demonstrates the process of initializing an EA class and running it for a simple problem, in our case, the Sphere function."
   ]
  },
  {
   "cell_type": "code",
   "execution_count": 1,
   "id": "8e608ecf",
   "metadata": {},
   "outputs": [],
   "source": [
    "# Standard library\n",
    "import random\n",
    "from collections.abc import Callable\n",
    "from dataclasses import dataclass\n",
    "from pathlib import Path\n",
    "from typing import Literal, cast\n",
    "\n",
    "# Pretty little errors and progress bars\n",
    "from rich.console import Console\n",
    "from rich.progress import track\n",
    "from rich.traceback import install\n",
    "\n",
    "# Third-party libraries\n",
    "import numpy as np\n",
    "from pydantic_settings import BaseSettings\n",
    "from sqlalchemy import create_engine\n",
    "from sqlmodel import Session, SQLModel, col, select\n",
    "\n",
    "# Local libraries\n",
    "from ariel.ec.a000 import IntegerMutator, IntegersGenerator\n",
    "from ariel.ec.a001 import Individual\n",
    "from ariel.ec.a005 import Crossover"
   ]
  },
  {
   "cell_type": "markdown",
   "id": "46cc2ac5",
   "metadata": {},
   "source": [
    "#### Initialize the global constants"
   ]
  },
  {
   "cell_type": "code",
   "execution_count": null,
   "id": "72bb9020",
   "metadata": {},
   "outputs": [],
   "source": [
    "# A seed is optional, but it helps with reproducibility\n",
    "SEED = 42\n",
    "\n",
    "# The database has a few handling modes\n",
    "    # \"delete\" will delete the existing database\n",
    "    # \"halt\" will stop the execution if a database already exists\n",
    "DB_HANDLING_MODES = Literal[\"delete\", \"halt\"]\n",
    "\n",
    "# Initialize RNG\n",
    "RNG = np.random.default_rng(SEED)\n",
    "\n",
    "# Initialize rich console and traceback handler\n",
    "install()\n",
    "console = Console()"
   ]
  },
  {
   "cell_type": "code",
   "execution_count": 3,
   "id": "3bcb5bd2",
   "metadata": {},
   "outputs": [],
   "source": [
    "# Type aliases to help with annotations\n",
    "type Population = list[Individual]\n",
    "type PopulationFunc = Callable[[Population], Population]"
   ]
  },
  {
   "cell_type": "markdown",
   "id": "4ed30a28",
   "metadata": {},
   "source": [
    "### After importing all necessary libraries we can start defining the base classes."
   ]
  },
  {
   "cell_type": "code",
   "execution_count": null,
   "id": "2c598983",
   "metadata": {},
   "outputs": [
    {
     "name": "stdout",
     "output_type": "stream",
     "text": [
      "maximizing: False\n",
      "first_gen_id: 0\n",
      "num_generations: 100\n",
      "population_size: 100\n",
      "output_path: d:\\University\\EC TA\\ariel\\examples\\results\n",
      "db_file_name: database_sphere.db\n",
      "db_file_path: d:\\University\\EC TA\\ariel\\examples\\results\\database_sphere.db\n",
      "db_handling_mode: delete\n"
     ]
    }
   ],
   "source": [
    "# It is easier if you define a EAconfig class\n",
    "\n",
    "class EAconfig(BaseSettings):\n",
    "\n",
    "    # EC parameters\n",
    "    is_maximization: bool = False\n",
    "    first_gen_id: int = 0\n",
    "    num_generations: int = 100\n",
    "    target_population_size: int = 100\n",
    "\n",
    "    # Data config\n",
    "    output_path: Path = Path.cwd() / 'results'\n",
    "    db_file_name: str = 'database_sphere.db'\n",
    "    db_file_path: Path = output_path / db_file_name\n",
    "    db_handling_mode: DB_HANDLING_MODES = \"delete\"\n",
    "\n",
    "config = EAconfig()\n",
    "\n",
    "# Lets see the parameters we just set\n",
    "for conf in config:\n",
    "    print(f\"{conf[0]}: {conf[1]}\")"
   ]
  },
  {
   "cell_type": "markdown",
   "id": "bc2c9972",
   "metadata": {},
   "source": [
    "#### The next class we need to define is the  EA class, this allows us to implement many different EAs by reusing the base classes as well."
   ]
  },
  {
   "cell_type": "code",
   "execution_count": null,
   "id": "5ed72f9e",
   "metadata": {},
   "outputs": [],
   "source": [
    "# Initialize the database\n",
    "class DBHandler:\n",
    "    def init_database(self, \n",
    "                      db_file_path: Path | None=None, # for simplicity we'll assume this is already type Path \n",
    "                      db_handling: DB_HANDLING_MODES | None= None\n",
    "                      ) -> None:\n",
    "        \n",
    "        # Print the handling mode so old data is not lost\n",
    "        db_exists = db_file_path.exists()\n",
    "\n",
    "        if db_exists and db_handling == \"delete\":\n",
    "            console.log(f\"Database {db_file_path} already exists, deleting it.\")\n",
    "            db_file_path.unlink()\n",
    "            \n",
    "        elif db_exists and db_handling == \"halt\":\n",
    "            console.log(f\"Database {db_file_path} already exists, halting execution.\")\n",
    "            raise FileExistsError(f\"Database {db_file_path} already exists.\")\n",
    "        \n",
    "        self.engine = create_engine(f\"sqlite:///{db_file_path}\")\n",
    "        SQLModel.metadata.create_all(self.engine)\n"
   ]
  },
  {
   "cell_type": "markdown",
   "id": "d8c096ab",
   "metadata": {},
   "source": [
    "#### Here we define the Step dataclass. This allows us to later create the EA in a similar way to nn.Sequential."
   ]
  },
  {
   "cell_type": "code",
   "execution_count": null,
   "id": "f5580418",
   "metadata": {},
   "outputs": [],
   "source": [
    "@dataclass\n",
    "class EAStep:\n",
    "    name: str\n",
    "    func: PopulationFunc\n",
    "\n",
    "    def __call__(self, population: Population) -> Population:\n",
    "        return self.func(population)"
   ]
  },
  {
   "cell_type": "markdown",
   "id": "bf1b979b",
   "metadata": {},
   "source": [
    "#### We finally get to initialize the EA class"
   ]
  },
  {
   "cell_type": "code",
   "execution_count": null,
   "id": "9c7babca",
   "metadata": {},
   "outputs": [],
   "source": [
    "class EA(DBHandler):\n",
    "    def __init__(self, \n",
    "                 population: Population,\n",
    "                 operations: list[EAStep],\n",
    "                 num_generations: int | None = None,\n",
    "                 *,\n",
    "                 first_gen_id: int | None = None,\n",
    "                 quiet: bool = False\n",
    "                 ) -> None:\n",
    "        super().__init__()\n",
    "        # Local params\n",
    "        self.population = population\n",
    "\n",
    "        # Flexible params\n",
    "        self.quiet = quiet\n",
    "        self.console = Console(quiet=self.quiet)\n",
    "        self.current_gen = first_gen_id or config.first_gen_id\n",
    "        self.num_generations = num_generations or config.num_generations\n",
    "\n",
    "        # Bound params\n",
    "        self.is_maximization = config.is_maximization\n",
    "        self.target_population_size = config.target_population_size\n",
    "\n",
    "        # Initialize \n",
    "        self.init_database()\n",
    "        self.population = population\n",
    "        self.commit_population()\n",
    "        self.console.rule(\"[blue]EA Initialized\")\n",
    "\n",
    "        @property\n",
    "        def population_size(self) -> int:\n",
    "            return len(self.population)\n",
    "        \n",
    "        def commit_population(self) -> None:\n",
    "            with Session(self.engine) as session:\n",
    "                for ind in self.population:\n",
    "                    if ind.time_of_birth == -1:\n",
    "                        ind.time_of_birth = self.current_gen\n",
    "                session.commit()\n"
   ]
  },
  {
   "cell_type": "markdown",
   "id": "07d1c30c",
   "metadata": {},
   "source": [
    "# This notebook is work in progress"
   ]
  }
 ],
 "metadata": {
  "kernelspec": {
   "display_name": "ariel",
   "language": "python",
   "name": "python3"
  },
  "language_info": {
   "codemirror_mode": {
    "name": "ipython",
    "version": 3
   },
   "file_extension": ".py",
   "mimetype": "text/x-python",
   "name": "python",
   "nbconvert_exporter": "python",
   "pygments_lexer": "ipython3",
   "version": "3.12.9"
  }
 },
 "nbformat": 4,
 "nbformat_minor": 5
}
